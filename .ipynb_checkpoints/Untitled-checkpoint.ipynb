{
 "cells": [
  {
   "cell_type": "code",
   "execution_count": 7,
   "id": "e2efcce6-7ebb-419e-8f14-6d23b3826bd2",
   "metadata": {},
   "outputs": [
    {
     "name": "stderr",
     "output_type": "stream",
     "text": [
      "<>:8: SyntaxWarning: invalid escape sequence '\\p'\n",
      "<>:8: SyntaxWarning: invalid escape sequence '\\p'\n",
      "/var/folders/tr/2pdj27553xqc8j9m9lzhqt8r0000gn/T/ipykernel_98115/458534475.py:8: SyntaxWarning: invalid escape sequence '\\p'\n",
      "  \"\"\"\n"
     ]
    }
   ],
   "source": [
    "import pandas as pd\n",
    "import numpy as np\n",
    "import re\n",
    "import subprocess\n",
    "import os\n",
    "\n",
    "def replace_person_name(input_text: str, unitext: str) -> str:\n",
    "    \"\"\"\n",
    "    Captures the text within \"\\newcommand{\\personname}{xxx}\" using regex\n",
    "    and replaces \"xxx\" with the given unitext.\n",
    "\n",
    "    Args:\n",
    "        input_text: The input string, which may contain \"\\newcommand{\\personname}{xxx}\".\n",
    "        unitext: The unicode string to replace the captured \"xxx\" with.\n",
    "\n",
    "    Returns:\n",
    "        A new string with the captured text replaced by unitext.\n",
    "    \"\"\"\n",
    "    pattern = re.compile(r\"(\\\\newcommand\\{\\\\personname\\}\\{)(.*?)(})\")\n",
    "    output_text = pattern.sub(r\"\\1\" + unitext + r\"\\3\", input_text)\n",
    "\n",
    "    return output_text\n",
    "\n",
    "df = pd.read_excel('canva25.xlsx')\n",
    "name = df['ชื่อ'].to_numpy().astype(str)\n",
    "surname = df['นามสกุล'].to_numpy().astype(str)"
   ]
  },
  {
   "cell_type": "code",
   "execution_count": 8,
   "id": "6cae741c-2fc8-4bfa-9afe-0dfcbf4602e6",
   "metadata": {},
   "outputs": [
    {
     "data": {
      "text/plain": [
       "array(['นางสาวบุษรา กล่อมเย็น', 'นางสาววนิดา คลี่ใบ',\n",
       "       'นางสาวอนงค์ วงศ์มณี', 'นางสาวเนตรนภา พะเดช', 'ธีริศรา เกษาหอม',\n",
       "       'ชนาธิป คทาโภคิน', 'นางสาวปิยดา เพชรอาวุธ', 'ธนัญพร ปลูกชาลี',\n",
       "       'นางสาวสมพร กองสาสน', 'ศุภศรี คงชื่นจิตร', 'นางสาวหทัยชนก พรมฝาย',\n",
       "       'อจิรวดี จันทวรรณ', 'นางสาวชลกร จิตรธรรม',\n",
       "       'นางสาวกุลนันทน์ ม่วงสนธิ์', 'นายภูรินท์ บูรณพล',\n",
       "       'นางสาวรัตนา ศรีสุวรรณ', 'ไอลดา ขันธสนธิ์', 'สุนันทา ขันธวิธิ',\n",
       "       'เอรินทร์ มาลัยทอง', 'อภิชาติ ทิพยโอสถ', 'นางสาวพรรณพร เฉลยจิตร์',\n",
       "       'ว่าที่ร้อยตรีเสมา อยู่นุช', 'นางสาวณัชชาพร ชิณบุตร',\n",
       "       'นางสาวรัตนาภรณ์ ไทยพู', 'มยุรฉัตร จันทวี', 'เขมิกา เขมาระกุล',\n",
       "       'วิภาภรณ์ บุตกุล', 'นางสาวธีรนันท์ สุรินทร์',\n",
       "       'กนกวรรณ กล่อมเกลี้ยง', 'นางสาวลักษมณ ภู่อรุณ',\n",
       "       'นางสาวน้ำหอม ประดิษฐ์', 'นางกมลชนก ฉันทพิริยกุล',\n",
       "       'นางสาวชลดา กิตติรุ่งสุวรรณ', 'นางสาวบุษยากร ฐานไชยชู',\n",
       "       'ผกาวรรณ ติยัพเสน', 'นางสาวณัฐจิรา ศรีหมูด', 'ปัณณพัฒน์ ดุษดี',\n",
       "       'ธนธรณ์ พรชรดลญา', 'กรรณิการ์ นันบุญมา', 'กิตติพงษ์ พลเจียก',\n",
       "       'กิ่งกาญจน์ จันทร์ศรี', 'ปวันรัตน์ โคตรพัฒน์'], dtype='<U26')"
      ]
     },
     "execution_count": 8,
     "metadata": {},
     "output_type": "execute_result"
    }
   ],
   "source": [
    "name = np.strings.strip(name)\n",
    "surname = np.strings.strip(surname)\n",
    "fullname = name + ' ' + surname\n",
    "fullname = np.strings.replace(fullname, u'\\u200b', '')\n",
    "fullname"
   ]
  },
  {
   "cell_type": "code",
   "execution_count": 9,
   "id": "0148f280-75ae-4745-94cb-13225c04aab7",
   "metadata": {},
   "outputs": [],
   "source": [
    "with open('templates/main.tex', 'r') as file:\n",
    "    template = file.read()\n",
    "n = len(fullname)\n",
    "for k in range(n):\n",
    "    personname = fullname[k]\n",
    "    newtext = replace_person_name(template, personname)\n",
    "    prefix_title = 'cert_canva'\n",
    "    with open(f'tmp/{prefix_title}_{surname[k]}.tex', 'w') as file:\n",
    "        file.write(newtext)"
   ]
  },
  {
   "cell_type": "markdown",
   "id": "67b0ae36-bcc9-4b0a-8867-2a422d993a22",
   "metadata": {},
   "source": [
    "### LaTeX Typesets"
   ]
  },
  {
   "cell_type": "code",
   "execution_count": 13,
   "id": "6d7bda1b-b955-4fe8-a1ef-1c6827b9ce13",
   "metadata": {},
   "outputs": [
    {
     "name": "stdout",
     "output_type": "stream",
     "text": [
      "Typeseted cert_canva_กล่อมเย็น 1/42\n",
      "Typeseted cert_canva_คลี่ใบ 2/42\n",
      "Typeseted cert_canva_วงศ์มณี 3/42\n",
      "Typeseted cert_canva_พะเดช 4/42\n",
      "Typeseted cert_canva_เกษาหอม 5/42\n",
      "Typeseted cert_canva_คทาโภคิน 6/42\n",
      "Typeseted cert_canva_เพชรอาวุธ 7/42\n",
      "Typeseted cert_canva_ปลูกชาลี 8/42\n",
      "Typeseted cert_canva_กองสาสน 9/42\n",
      "Typeseted cert_canva_คงชื่นจิตร 10/42\n",
      "Typeseted cert_canva_พรมฝาย 11/42\n",
      "Typeseted cert_canva_จันทวรรณ 12/42\n",
      "Typeseted cert_canva_จิตรธรรม 13/42\n",
      "Typeseted cert_canva_ม่วงสนธิ์ 14/42\n",
      "Typeseted cert_canva_บูรณพล 15/42\n",
      "Typeseted cert_canva_ศรีสุวรรณ 16/42\n",
      "Typeseted cert_canva_ขันธสนธิ์ 17/42\n",
      "Typeseted cert_canva_ขันธวิธิ 18/42\n",
      "Typeseted cert_canva_มาลัยทอง 19/42\n",
      "Typeseted cert_canva_ทิพยโอสถ 20/42\n",
      "Typeseted cert_canva_เฉลยจิตร์ 21/42\n",
      "Typeseted cert_canva_อยู่นุช 22/42\n",
      "Typeseted cert_canva_ชิณบุตร 23/42\n",
      "Typeseted cert_canva_ไทยพู 24/42\n",
      "Typeseted cert_canva_จันทวี 25/42\n",
      "Typeseted cert_canva_เขมาระกุล 26/42\n",
      "Typeseted cert_canva_บุตกุล 27/42\n",
      "Typeseted cert_canva_สุรินทร์ 28/42\n",
      "Typeseted cert_canva_กล่อมเกลี้ยง 29/42\n",
      "Typeseted cert_canva_ภู่อรุณ 30/42\n",
      "Typeseted cert_canva_ประดิษฐ์ 31/42\n",
      "Typeseted cert_canva_ฉันทพิริยกุล 32/42\n",
      "Typeseted cert_canva_กิตติรุ่งสุวรรณ 33/42\n",
      "Typeseted cert_canva_ฐานไชยชู 34/42\n",
      "Typeseted cert_canva_ติยัพเสน 35/42\n",
      "Typeseted cert_canva_ศรีหมูด 36/42\n",
      "Typeseted cert_canva_ดุษดี 37/42\n",
      "Typeseted cert_canva_พรชรดลญา 38/42\n",
      "Typeseted cert_canva_นันบุญมา 39/42\n",
      "Typeseted cert_canva_พลเจียก 40/42\n",
      "Typeseted cert_canva_จันทร์ศรี 41/42\n",
      "Typeseted cert_canva_โคตรพัฒน์ 42/42\n"
     ]
    }
   ],
   "source": [
    "cwd = os.getcwd()\n",
    "newpath = cwd + '/tmp'\n",
    "os.chdir(newpath)\n",
    "# print(os.getcwd())\n",
    "c = 0\n",
    "for k in range(n):\n",
    "    subprocess.run(['xelatex', f'{prefix_title}_{surname[k]}.tex'], \n",
    "                   stdout=subprocess.DEVNULL\n",
    "                  )\n",
    "    c += 1\n",
    "    print(f'Typeseted {prefix_title}_{surname[k]} {c}/{n}')\n",
    "os.chdir(cwd)"
   ]
  },
  {
   "cell_type": "code",
   "execution_count": null,
   "id": "75eacadf-697a-493f-b328-4c57d689467e",
   "metadata": {},
   "outputs": [],
   "source": []
  },
  {
   "cell_type": "code",
   "execution_count": null,
   "id": "9ca1f3e6-8b84-4f25-b0a8-1e7f24852c79",
   "metadata": {},
   "outputs": [],
   "source": []
  }
 ],
 "metadata": {
  "kernelspec": {
   "display_name": "Python 3 (ipykernel)",
   "language": "python",
   "name": "python3"
  },
  "language_info": {
   "codemirror_mode": {
    "name": "ipython",
    "version": 3
   },
   "file_extension": ".py",
   "mimetype": "text/x-python",
   "name": "python",
   "nbconvert_exporter": "python",
   "pygments_lexer": "ipython3",
   "version": "3.12.0"
  }
 },
 "nbformat": 4,
 "nbformat_minor": 5
}
