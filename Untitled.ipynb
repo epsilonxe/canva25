{
 "cells": [
  {
   "cell_type": "code",
   "execution_count": 1,
   "id": "e2efcce6-7ebb-419e-8f14-6d23b3826bd2",
   "metadata": {},
   "outputs": [
    {
     "name": "stderr",
     "output_type": "stream",
     "text": [
      "<>:8: SyntaxWarning: invalid escape sequence '\\p'\n",
      "<>:8: SyntaxWarning: invalid escape sequence '\\p'\n",
      "/var/folders/tr/2pdj27553xqc8j9m9lzhqt8r0000gn/T/ipykernel_2950/458534475.py:8: SyntaxWarning: invalid escape sequence '\\p'\n",
      "  \"\"\"\n"
     ]
    }
   ],
   "source": [
    "import pandas as pd\n",
    "import numpy as np\n",
    "import re\n",
    "import subprocess\n",
    "import os\n",
    "\n",
    "def replace_person_name(input_text: str, unitext: str) -> str:\n",
    "    \"\"\"\n",
    "    Captures the text within \"\\newcommand{\\personname}{xxx}\" using regex\n",
    "    and replaces \"xxx\" with the given unitext.\n",
    "\n",
    "    Args:\n",
    "        input_text: The input string, which may contain \"\\newcommand{\\personname}{xxx}\".\n",
    "        unitext: The unicode string to replace the captured \"xxx\" with.\n",
    "\n",
    "    Returns:\n",
    "        A new string with the captured text replaced by unitext.\n",
    "    \"\"\"\n",
    "    pattern = re.compile(r\"(\\\\newcommand\\{\\\\personname\\}\\{)(.*?)(})\")\n",
    "    output_text = pattern.sub(r\"\\1\" + unitext + r\"\\3\", input_text)\n",
    "\n",
    "    return output_text\n",
    "\n",
    "df = pd.read_excel('canva25.xlsx')\n",
    "name = df['ชื่อ'].to_numpy().astype(str)\n",
    "surname = df['นามสกุล'].to_numpy().astype(str)"
   ]
  },
  {
   "cell_type": "code",
   "execution_count": 2,
   "id": "6cae741c-2fc8-4bfa-9afe-0dfcbf4602e6",
   "metadata": {},
   "outputs": [
    {
     "data": {
      "text/plain": [
       "array(['นางสาวบุษรา กล่อมเย็น', 'นางสาวปิยดา เพชรอาวุธ',\n",
       "       'ศุภศรี คงชื่นจิตร', 'อจิรวดี จันทวรรณ', 'นางสาวชลกร จิตรธรรม',\n",
       "       'นางสาวกุลนันทน์ ม่วงสนธิ์', 'นายภูรินท์ บูรณพล',\n",
       "       'ไอลดา ขันธสนธิ์', 'สุนันทา ขันธวิธิ', 'เอรินทร์ มาลัยทอง',\n",
       "       'อภิชาติ ทิพยโอสถ', 'นางสาวรัตนาภรณ์ ไทยพู', 'เขมิกา เขมาระกุล',\n",
       "       'วิภาภรณ์ บุตกุล', 'สุวพร ปิ่นแก้ว', 'นางสาวลักษมณ ภู่อรุณ',\n",
       "       'นางสาวน้ำหอม ประดิษฐ์', 'นางกมลชนก ฉันทพิริยกุล',\n",
       "       'นางสาวบุษยากร ฐานไชยชู', 'ผกาวรรณ ติยัพเสน',\n",
       "       'นางสาวณัฐจิรา ศรีหมูด', 'ธนธรณ์ พรชรดลญา', 'กรรณิการ์ นันบุญมา',\n",
       "       'กิตติพงษ์ พลเจียก', 'กิ่งกาญจน์ จันทร์ศรี', 'ปวันรัตน์ โคตรพัฒน์'],\n",
       "      dtype='<U25')"
      ]
     },
     "execution_count": 2,
     "metadata": {},
     "output_type": "execute_result"
    }
   ],
   "source": [
    "name = np.strings.strip(name)\n",
    "surname = np.strings.strip(surname)\n",
    "fullname = name + ' ' + surname\n",
    "fullname = np.strings.replace(fullname, u'\\u200b', '')\n",
    "fullname"
   ]
  },
  {
   "cell_type": "code",
   "execution_count": 3,
   "id": "0148f280-75ae-4745-94cb-13225c04aab7",
   "metadata": {},
   "outputs": [],
   "source": [
    "with open('templates/main.tex', 'r') as file:\n",
    "    template = file.read()\n",
    "n = len(fullname)\n",
    "for k in range(n):\n",
    "    personname = fullname[k]\n",
    "    newtext = replace_person_name(template, personname)\n",
    "    prefix_title = 'cert_canva'\n",
    "    with open(f'tmp/{prefix_title}_{surname[k]}.tex', 'w') as file:\n",
    "        file.write(newtext)"
   ]
  },
  {
   "cell_type": "markdown",
   "id": "67b0ae36-bcc9-4b0a-8867-2a422d993a22",
   "metadata": {},
   "source": [
    "### LaTeX Typesets"
   ]
  },
  {
   "cell_type": "code",
   "execution_count": 4,
   "id": "6d7bda1b-b955-4fe8-a1ef-1c6827b9ce13",
   "metadata": {},
   "outputs": [
    {
     "name": "stdout",
     "output_type": "stream",
     "text": [
      "Typeseted cert_canva_กล่อมเย็น 1/26\n",
      "Typeseted cert_canva_เพชรอาวุธ 2/26\n",
      "Typeseted cert_canva_คงชื่นจิตร 3/26\n",
      "Typeseted cert_canva_จันทวรรณ 4/26\n",
      "Typeseted cert_canva_จิตรธรรม 5/26\n",
      "Typeseted cert_canva_ม่วงสนธิ์ 6/26\n",
      "Typeseted cert_canva_บูรณพล 7/26\n",
      "Typeseted cert_canva_ขันธสนธิ์ 8/26\n",
      "Typeseted cert_canva_ขันธวิธิ 9/26\n",
      "Typeseted cert_canva_มาลัยทอง 10/26\n",
      "Typeseted cert_canva_ทิพยโอสถ 11/26\n",
      "Typeseted cert_canva_ไทยพู 12/26\n",
      "Typeseted cert_canva_เขมาระกุล 13/26\n",
      "Typeseted cert_canva_บุตกุล 14/26\n",
      "Typeseted cert_canva_ปิ่นแก้ว 15/26\n",
      "Typeseted cert_canva_ภู่อรุณ 16/26\n",
      "Typeseted cert_canva_ประดิษฐ์ 17/26\n",
      "Typeseted cert_canva_ฉันทพิริยกุล 18/26\n",
      "Typeseted cert_canva_ฐานไชยชู 19/26\n",
      "Typeseted cert_canva_ติยัพเสน 20/26\n",
      "Typeseted cert_canva_ศรีหมูด 21/26\n",
      "Typeseted cert_canva_พรชรดลญา 22/26\n",
      "Typeseted cert_canva_นันบุญมา 23/26\n",
      "Typeseted cert_canva_พลเจียก 24/26\n",
      "Typeseted cert_canva_จันทร์ศรี 25/26\n",
      "Typeseted cert_canva_โคตรพัฒน์ 26/26\n"
     ]
    }
   ],
   "source": [
    "cwd = os.getcwd()\n",
    "newpath = cwd + '/tmp'\n",
    "os.chdir(newpath)\n",
    "# print(os.getcwd())\n",
    "c = 0\n",
    "for k in range(n):\n",
    "    subprocess.run(['xelatex', f'{prefix_title}_{surname[k]}.tex'], \n",
    "                   stdout=subprocess.DEVNULL\n",
    "                  )\n",
    "    c += 1\n",
    "    print(f'Typeseted {prefix_title}_{surname[k]} {c}/{n}')\n",
    "os.chdir(cwd)"
   ]
  },
  {
   "cell_type": "code",
   "execution_count": null,
   "id": "75eacadf-697a-493f-b328-4c57d689467e",
   "metadata": {},
   "outputs": [],
   "source": []
  },
  {
   "cell_type": "code",
   "execution_count": null,
   "id": "9ca1f3e6-8b84-4f25-b0a8-1e7f24852c79",
   "metadata": {},
   "outputs": [],
   "source": []
  }
 ],
 "metadata": {
  "kernelspec": {
   "display_name": "Python 3 (ipykernel)",
   "language": "python",
   "name": "python3"
  },
  "language_info": {
   "codemirror_mode": {
    "name": "ipython",
    "version": 3
   },
   "file_extension": ".py",
   "mimetype": "text/x-python",
   "name": "python",
   "nbconvert_exporter": "python",
   "pygments_lexer": "ipython3",
   "version": "3.12.0"
  }
 },
 "nbformat": 4,
 "nbformat_minor": 5
}
